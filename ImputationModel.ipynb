{
 "cells": [
  {
   "cell_type": "markdown",
   "metadata": {},
   "source": [
    "\n",
    "\n",
    "Creating a Random Forest Model to Impute Data\n",
    "=============\n",
    "\n",
    "<table>\n",
    "    <tr>\n",
    "        <td>Foo</td>\n",
    "    </tr>\n",
    "</table>"
   ]
  },
  {
   "cell_type": "markdown",
   "metadata": {},
   "source": [
    "#### This is an H4\n",
    "\n",
    "A limiting factor of the process and outcome measures is that a hospital is not present in every county to evaluate. Additionally, not every hospital has a sufficient volume of adverse cases and events for meaningful, condition specific evaluation. This was observed in rural counties with lower population densities. These measures required the most processing due to Missing at Random (MAR) data. See the Appendix for the list of all the collected measures and the completeness of the records.\n",
    "![Alt text](https://raw.githubusercontent.com/ashlitaylor/ashlitaylor.github.io/master/images/Healthcare.jpg)"
   ]
  },
  {
   "cell_type": "code",
   "execution_count": 21,
   "metadata": {},
   "outputs": [
    {
     "name": "stderr",
     "output_type": "stream",
     "text": [
      "Loading required package: Ecfun\n",
      "\n",
      "Attaching package: 'Ecfun'\n",
      "\n",
      "The following object is masked from 'package:base':\n",
      "\n",
      "    sign\n",
      "\n",
      "\n",
      "Attaching package: 'Ecdat'\n",
      "\n",
      "The following object is masked from 'package:datasets':\n",
      "\n",
      "    Orange\n",
      "\n",
      "Loading required package: ISLR\n",
      "Warning message in library(package, lib.loc = lib.loc, character.only = TRUE, logical.return = TRUE, :\n",
      "\"there is no package called 'ISLR'\""
     ]
    },
    {
     "name": "stdout",
     "output_type": "stream",
     "text": [
      "package 'ISLR' successfully unpacked and MD5 sums checked\n",
      "\n",
      "The downloaded binary packages are in\n",
      "\tC:\\Users\\ShanoyaTaylor\\AppData\\Local\\Temp\\RtmpUr09qd\\downloaded_packages\n"
     ]
    },
    {
     "name": "stderr",
     "output_type": "stream",
     "text": [
      "Loading required package: GGally\n",
      "Warning message in library(package, lib.loc = lib.loc, character.only = TRUE, logical.return = TRUE, :\n",
      "\"there is no package called 'GGally'\"also installing the dependency 'reshape'\n",
      "\n"
     ]
    },
    {
     "name": "stdout",
     "output_type": "stream",
     "text": [
      "package 'reshape' successfully unpacked and MD5 sums checked\n",
      "package 'GGally' successfully unpacked and MD5 sums checked\n",
      "\n",
      "The downloaded binary packages are in\n",
      "\tC:\\Users\\ShanoyaTaylor\\AppData\\Local\\Temp\\RtmpUr09qd\\downloaded_packages\n"
     ]
    },
    {
     "name": "stderr",
     "output_type": "stream",
     "text": [
      "Registered S3 method overwritten by 'GGally':\n",
      "  method from   \n",
      "  +.gg   ggplot2\n",
      "\n",
      "Attaching package: 'GGally'\n",
      "\n",
      "The following object is masked from 'package:dplyr':\n",
      "\n",
      "    nasa\n",
      "\n",
      "Loading required package: scatterplot3d\n",
      "Warning message in library(package, lib.loc = lib.loc, character.only = TRUE, logical.return = TRUE, :\n",
      "\"there is no package called 'scatterplot3d'\""
     ]
    },
    {
     "name": "stdout",
     "output_type": "stream",
     "text": [
      "package 'scatterplot3d' successfully unpacked and MD5 sums checked\n",
      "\n",
      "The downloaded binary packages are in\n",
      "\tC:\\Users\\ShanoyaTaylor\\AppData\\Local\\Temp\\RtmpUr09qd\\downloaded_packages\n"
     ]
    },
    {
     "name": "stderr",
     "output_type": "stream",
     "text": [
      "Loading required package: censReg\n",
      "Warning message in library(package, lib.loc = lib.loc, character.only = TRUE, logical.return = TRUE, :\n",
      "\"there is no package called 'censReg'\"also installing the dependencies 'bibtex', 'gbRd', 'bdsmatrix', 'lmtest', 'Rdpack', 'Formula', 'maxLik', 'glmmML', 'sandwich', 'miscTools', 'plm'\n",
      "\n"
     ]
    },
    {
     "name": "stdout",
     "output_type": "stream",
     "text": [
      "package 'bibtex' successfully unpacked and MD5 sums checked\n",
      "package 'gbRd' successfully unpacked and MD5 sums checked\n",
      "package 'bdsmatrix' successfully unpacked and MD5 sums checked\n",
      "package 'lmtest' successfully unpacked and MD5 sums checked\n",
      "package 'Rdpack' successfully unpacked and MD5 sums checked\n",
      "package 'Formula' successfully unpacked and MD5 sums checked\n",
      "package 'maxLik' successfully unpacked and MD5 sums checked\n",
      "package 'glmmML' successfully unpacked and MD5 sums checked\n",
      "package 'sandwich' successfully unpacked and MD5 sums checked\n",
      "package 'miscTools' successfully unpacked and MD5 sums checked\n",
      "package 'plm' successfully unpacked and MD5 sums checked\n",
      "package 'censReg' successfully unpacked and MD5 sums checked\n",
      "\n",
      "The downloaded binary packages are in\n",
      "\tC:\\Users\\ShanoyaTaylor\\AppData\\Local\\Temp\\RtmpUr09qd\\downloaded_packages\n"
     ]
    },
    {
     "name": "stderr",
     "output_type": "stream",
     "text": [
      "Loading required package: maxLik\n",
      "Loading required package: miscTools\n",
      "\n",
      "Attaching package: 'miscTools'\n",
      "\n",
      "The following object is masked from 'package:Ecfun':\n",
      "\n",
      "    checkNames\n",
      "\n",
      "\n",
      "Please cite the 'maxLik' package as:\n",
      "Henningsen, Arne and Toomet, Ott (2011). maxLik: A package for maximum likelihood estimation in R. Computational Statistics 26(3), 443-458. DOI 10.1007/s00180-010-0217-1.\n",
      "\n",
      "If you have questions, suggestions, or comments regarding the 'maxLik' package, please use a forum or 'tracker' at maxLik's R-Forge site:\n",
      "https://r-forge.r-project.org/projects/maxlik/\n",
      "\n",
      "Please cite the 'censReg' package as:\n",
      "Henningsen, Arne (2017). censReg: Censored Regression (Tobit) Models. R package version 0.5. http://CRAN.R-Project.org/package=censReg.\n",
      "\n",
      "If you have questions, suggestions, or comments regarding the 'censReg' package, please use a forum or 'tracker' at the R-Forge site of the 'sampleSelection' project:\n",
      "https://r-forge.r-project.org/projects/sampleselection/\n",
      "Loading required package: corrplot\n",
      "Warning message in library(package, lib.loc = lib.loc, character.only = TRUE, logical.return = TRUE, :\n",
      "\"there is no package called 'corrplot'\""
     ]
    },
    {
     "name": "stdout",
     "output_type": "stream",
     "text": [
      "package 'corrplot' successfully unpacked and MD5 sums checked\n",
      "\n",
      "The downloaded binary packages are in\n",
      "\tC:\\Users\\ShanoyaTaylor\\AppData\\Local\\Temp\\RtmpUr09qd\\downloaded_packages\n"
     ]
    },
    {
     "name": "stderr",
     "output_type": "stream",
     "text": [
      "corrplot 0.84 loaded\n",
      "Loading required package: VGAM\n",
      "Warning message in library(package, lib.loc = lib.loc, character.only = TRUE, logical.return = TRUE, :\n",
      "\"there is no package called 'VGAM'\""
     ]
    },
    {
     "name": "stdout",
     "output_type": "stream",
     "text": [
      "package 'VGAM' successfully unpacked and MD5 sums checked\n",
      "\n",
      "The downloaded binary packages are in\n",
      "\tC:\\Users\\ShanoyaTaylor\\AppData\\Local\\Temp\\RtmpUr09qd\\downloaded_packages\n"
     ]
    },
    {
     "name": "stderr",
     "output_type": "stream",
     "text": [
      "Loading required package: stats4\n",
      "Loading required package: splines\n",
      "\n",
      "Attaching package: 'VGAM'\n",
      "\n",
      "The following object is masked from 'package:tidyr':\n",
      "\n",
      "    fill\n",
      "\n",
      "Loading required package: BBmisc\n",
      "Warning message in library(package, lib.loc = lib.loc, character.only = TRUE, logical.return = TRUE, :\n",
      "\"there is no package called 'BBmisc'\"also installing the dependency 'checkmate'\n",
      "\n"
     ]
    },
    {
     "name": "stdout",
     "output_type": "stream",
     "text": [
      "package 'checkmate' successfully unpacked and MD5 sums checked\n",
      "package 'BBmisc' successfully unpacked and MD5 sums checked\n",
      "\n",
      "The downloaded binary packages are in\n",
      "\tC:\\Users\\ShanoyaTaylor\\AppData\\Local\\Temp\\RtmpUr09qd\\downloaded_packages\n"
     ]
    },
    {
     "name": "stderr",
     "output_type": "stream",
     "text": [
      "\n",
      "Attaching package: 'BBmisc'\n",
      "\n",
      "The following objects are masked from 'package:dplyr':\n",
      "\n",
      "    coalesce, collapse\n",
      "\n",
      "The following object is masked from 'package:base':\n",
      "\n",
      "    isFALSE\n",
      "\n",
      "Loading required package: gdata\n",
      "gdata: Unable to locate valid perl interpreter\n",
      "gdata: \n",
      "gdata: read.xls() will be unable to read Excel XLS and XLSX files\n",
      "gdata: unless the 'perl=' argument is used to specify the location of a\n",
      "gdata: valid perl intrpreter.\n",
      "gdata: \n",
      "gdata: (To avoid display of this message in the future, please ensure\n",
      "gdata: perl is installed and available on the executable search path.)\n",
      "gdata: Unable to load perl libaries needed by read.xls()\n",
      "gdata: to support 'XLX' (Excel 97-2004) files.\n",
      "\n",
      "gdata: Unable to load perl libaries needed by read.xls()\n",
      "gdata: to support 'XLSX' (Excel 2007+) files.\n",
      "\n",
      "gdata: Run the function 'installXLSXsupport()'\n",
      "gdata: to automatically download and install the perl\n",
      "gdata: libaries needed to support Excel XLS and XLSX formats.\n",
      "\n",
      "Attaching package: 'gdata'\n",
      "\n",
      "The following object is masked from 'package:VGAM':\n",
      "\n",
      "    nobs\n",
      "\n",
      "The following object is masked from 'package:stats4':\n",
      "\n",
      "    nobs\n",
      "\n",
      "The following objects are masked from 'package:dplyr':\n",
      "\n",
      "    combine, first, last\n",
      "\n",
      "The following object is masked from 'package:stats':\n",
      "\n",
      "    nobs\n",
      "\n",
      "The following object is masked from 'package:utils':\n",
      "\n",
      "    object.size\n",
      "\n",
      "The following object is masked from 'package:base':\n",
      "\n",
      "    startsWith\n",
      "\n",
      "Loading required package: missForest\n",
      "Warning message in library(package, lib.loc = lib.loc, character.only = TRUE, logical.return = TRUE, :\n",
      "\"there is no package called 'missForest'\"also installing the dependency 'itertools'\n",
      "\n"
     ]
    },
    {
     "name": "stdout",
     "output_type": "stream",
     "text": [
      "package 'itertools' successfully unpacked and MD5 sums checked\n",
      "package 'missForest' successfully unpacked and MD5 sums checked\n",
      "\n",
      "The downloaded binary packages are in\n",
      "\tC:\\Users\\ShanoyaTaylor\\AppData\\Local\\Temp\\RtmpUr09qd\\downloaded_packages\n"
     ]
    },
    {
     "name": "stderr",
     "output_type": "stream",
     "text": [
      "Loading required package: randomForest\n",
      "randomForest 4.6-14\n",
      "Type rfNews() to see new features/changes/bug fixes.\n",
      "\n",
      "Attaching package: 'randomForest'\n",
      "\n",
      "The following object is masked from 'package:gdata':\n",
      "\n",
      "    combine\n",
      "\n",
      "The following object is masked from 'package:ggplot2':\n",
      "\n",
      "    margin\n",
      "\n",
      "The following object is masked from 'package:dplyr':\n",
      "\n",
      "    combine\n",
      "\n",
      "Loading required package: foreach\n",
      "Loading required package: itertools\n",
      "Loading required package: iterators\n",
      "Loading required package: xlsx\n",
      "Warning message in library(package, lib.loc = lib.loc, character.only = TRUE, logical.return = TRUE, :\n",
      "\"there is no package called 'xlsx'\"also installing the dependencies 'rJava', 'xlsxjars'\n",
      "\n"
     ]
    },
    {
     "name": "stdout",
     "output_type": "stream",
     "text": [
      "package 'rJava' successfully unpacked and MD5 sums checked\n",
      "package 'xlsxjars' successfully unpacked and MD5 sums checked\n",
      "package 'xlsx' successfully unpacked and MD5 sums checked\n",
      "\n",
      "The downloaded binary packages are in\n",
      "\tC:\\Users\\ShanoyaTaylor\\AppData\\Local\\Temp\\RtmpUr09qd\\downloaded_packages\n"
     ]
    },
    {
     "ename": "ERROR",
     "evalue": "Error: package or namespace load failed for 'xlsx':\n .onLoad failed in loadNamespace() for 'rJava', details:\n  call: fun(libname, pkgname)\n  error: No CurrentVersion entry in Software/JavaSoft registry! Try re-installing Java and make sure R and Java have matching architectures.\n",
     "output_type": "error",
     "traceback": [
      "Error: package or namespace load failed for 'xlsx':\n .onLoad failed in loadNamespace() for 'rJava', details:\n  call: fun(libname, pkgname)\n  error: No CurrentVersion entry in Software/JavaSoft registry! Try re-installing Java and make sure R and Java have matching architectures.\nTraceback:\n",
      "1. library(xlsx)",
      "2. tryCatch({\n .     attr(package, \"LibPath\") <- which.lib.loc\n .     ns <- loadNamespace(package, lib.loc)\n .     env <- attachNamespace(ns, pos = pos, deps, exclude, include.only)\n . }, error = function(e) {\n .     P <- if (!is.null(cc <- conditionCall(e))) \n .         paste(\" in\", deparse(cc)[1L])\n .     else \"\"\n .     msg <- gettextf(\"package or namespace load failed for %s%s:\\n %s\", \n .         sQuote(package), P, conditionMessage(e))\n .     if (logical.return) \n .         message(paste(\"Error:\", msg), domain = NA)\n .     else stop(msg, call. = FALSE, domain = NA)\n . })",
      "3. tryCatchList(expr, classes, parentenv, handlers)",
      "4. tryCatchOne(expr, names, parentenv, handlers[[1L]])",
      "5. value[[3L]](cond)",
      "6. stop(msg, call. = FALSE, domain = NA)"
     ]
    }
   ],
   "source": [
    "library(Ecdat)\n",
    "if (!require(ggplot2)) install.packages(\"ggplot2\")\n",
    "library(ggplot2)\n",
    "if (!require(ISLR)) install.packages(\"ISLR\")\n",
    "library(ISLR)\n",
    "if (!require(GGally)) install.packages(\"GGally\")\n",
    "library(GGally)\n",
    "if (!require(scatterplot3d)) install.packages(\"scatterplot3d\")\n",
    "library(scatterplot3d)\n",
    "if (!require(censReg)) install.packages(\"censReg\")\n",
    "library(censReg)\n",
    "if (!require(corrplot)) install.packages(\"corrplot\")\n",
    "library(corrplot)\n",
    "if (!require(tidyr)) install.packages(\"tidyr\")\n",
    "library(tidyr)\n",
    "if (!require(VGAM)) install.packages(\"VGAM\")\n",
    "library(VGAM)\n",
    "if (!require(BBmisc)) install.packages(\"BBmisc\")\n",
    "library(BBmisc)\n",
    "if (!require(gdata)) install.packages(\"gdata\")\n",
    "library(gdata)\n",
    "if (!require(readxl)) install.packages(\"readxl\")\n",
    "library(readxl)\n",
    "if (!require(missForest)) install.packages(\"missForest\")\n",
    "library(missForest)\n",
    "if (!require(xlsx)) install.packages(\"xlsx\")\n",
    "library(xlsx)\n",
    "if (!require(WriteXLS)) install.packages(\"WriteXLS\")\n",
    "library(WriteXLS)\n",
    "if (!require(openxlsx)) install.packages(\"openxlsx\")\n",
    "library(openxlsx)\n",
    "if (!require(car)) install.packages(\"car\")\n",
    "library(car)"
   ]
  },
  {
   "cell_type": "code",
   "execution_count": null,
   "metadata": {},
   "outputs": [],
   "source": [
    "library(Ecdat)\n",
    "library(ggplot2) \n",
    "library(ISLR)\n",
    "library(GGally)\n",
    "library(scatterplot3d)\n",
    "library(censReg)\n",
    "library(corrplot)\n",
    "library(tidyr)\n",
    "library(VGAM)\n",
    "library(BBmisc)\n",
    "library(gdata)\n",
    "library(readxl)\n",
    "library(missForest)\n",
    "library(xlsx)\n",
    "library(WriteXLS)\n",
    "library(openxlsx)\n",
    "library(car)"
   ]
  },
  {
   "cell_type": "markdown",
   "metadata": {},
   "source": [
    "## Load the data\n",
    "I use the readxl library to read in the data"
   ]
  },
  {
   "cell_type": "code",
   "execution_count": 3,
   "metadata": {},
   "outputs": [
    {
     "ename": "ERROR",
     "evalue": "Error in read_excel(\"C:/Users/ShanoyaTaylor/Dropbox/Georgia Tech Courses/2019 - 4Spring/CSE6242/Project/Data/RemovedNA.xlsx\", : could not find function \"read_excel\"\n",
     "output_type": "error",
     "traceback": [
      "Error in read_excel(\"C:/Users/ShanoyaTaylor/Dropbox/Georgia Tech Courses/2019 - 4Spring/CSE6242/Project/Data/RemovedNA.xlsx\", : could not find function \"read_excel\"\nTraceback:\n"
     ]
    }
   ],
   "source": [
    "dataframe <- read_excel(\"C:/Users/ShanoyaTaylor/Dropbox/Georgia Tech Courses/2019 - 4Spring/CSE6242/Project/Data/RemovedNA.xlsx\", sheet = 5)\n"
   ]
  },
  {
   "cell_type": "code",
   "execution_count": null,
   "metadata": {},
   "outputs": [],
   "source": []
  }
 ],
 "metadata": {
  "kernelspec": {
   "display_name": "R",
   "language": "R",
   "name": "ir"
  },
  "language_info": {
   "codemirror_mode": "r",
   "file_extension": ".r",
   "mimetype": "text/x-r-source",
   "name": "R",
   "pygments_lexer": "r",
   "version": "3.6.1"
  }
 },
 "nbformat": 4,
 "nbformat_minor": 2
}
